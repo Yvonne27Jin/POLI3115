{
 "cells": [
  {
   "cell_type": "code",
   "execution_count": 18,
   "id": "a0003373",
   "metadata": {},
   "outputs": [
    {
     "name": "stdout",
     "output_type": "stream",
     "text": [
      "data/*.json\n",
      "data/*.csv\n",
      "['data/20.json', 'data/36.json', 'data/16.json', 'data/6.json', 'data/7.json', 'data/17.json', 'data/40.json', 'data/37.json', 'data/21.json', 'data/10.json', 'data/0.json', 'data/26.json', 'data/30.json', 'data/31.json', 'data/27.json', 'data/1.json', 'data/11.json', 'data/2.json', 'data/28.json', 'data/12.json', 'data/32.json', 'data/24.json', 'data/25.json', 'data/33.json', 'data/13.json', 'data/29.json', 'data/3.json', 'data/34.json', 'data/8.json', 'data/22.json', 'data/18.json', 'data/38.json', 'data/4.json', 'data/14.json', 'data/15.json', 'data/5.json', 'data/39.json', 'data/19.json', 'data/23.json', 'data/9.json', 'data/35.json']\n"
     ]
    }
   ],
   "source": [
    "import json\n",
    "import pandas as pd\n",
    "import os\n",
    "import glob\n",
    "\n",
    "# Opening JSON file\n",
    "data_location = os.path.join('data', '*.json')\n",
    "print(data_location)\n",
    "\n",
    "# output files\n",
    "data_out = os.path.join('data', '*.csv')\n",
    "print(data_out)\n",
    "\n",
    "filenames = glob.glob(data_location)\n",
    "print(filenames)\n"
   ]
  },
  {
   "cell_type": "code",
   "execution_count": 19,
   "id": "626bde31",
   "metadata": {},
   "outputs": [
    {
     "name": "stdout",
     "output_type": "stream",
     "text": [
      "20.csv\n",
      "36.csv\n",
      "16.csv\n",
      "6.csv\n",
      "7.csv\n",
      "17.csv\n",
      "40.csv\n",
      "37.csv\n",
      "21.csv\n",
      "10.csv\n",
      "0.csv\n",
      "26.csv\n",
      "30.csv\n",
      "31.csv\n",
      "27.csv\n",
      "1.csv\n",
      "11.csv\n",
      "2.csv\n",
      "28.csv\n",
      "12.csv\n",
      "32.csv\n",
      "24.csv\n",
      "25.csv\n",
      "33.csv\n",
      "13.csv\n",
      "29.csv\n",
      "3.csv\n",
      "34.csv\n",
      "8.csv\n",
      "22.csv\n",
      "18.csv\n",
      "38.csv\n",
      "4.csv\n",
      "14.csv\n",
      "15.csv\n",
      "5.csv\n",
      "39.csv\n",
      "19.csv\n",
      "23.csv\n",
      "9.csv\n",
      "35.csv\n"
     ]
    }
   ],
   "source": [
    "for f in filenames:\n",
    "    # get the file number\n",
    "    file_name = os.path.basename(f)\n",
    "    split_filename = file_name.split('.')\n",
    "    file_number = split_filename[0]\n",
    "    outfile_name = file_number + \".csv\"\n",
    "    # modify the data structure\n",
    "    datafile = open(f)\n",
    "    data = json.load(datafile)\n",
    "    df = pd.DataFrame(data)\n",
    "    # expand information of the original post being reposted: normalize the column of dictionaries\n",
    "    df_repost = pd.json_normalize(df.repost)\n",
    "    # add prefix to avoid overlap of column names\n",
    "    df_repost = df_repost.add_prefix('Repost_')\n",
    "    #  and join the repost df with main df\n",
    "    df = df.join(df_repost)\n",
    "    # drop original repost column\n",
    "    df.drop(columns=['repost'], inplace=True)\n",
    "    # export dataframe \n",
    "    df.to_csv(outfile_name,sep = \",\", header = True, encoding = \"UTF-8\")\n",
    "    print(outfile_name)"
   ]
  },
  {
   "cell_type": "code",
   "execution_count": null,
   "id": "eff60ad6",
   "metadata": {},
   "outputs": [],
   "source": []
  }
 ],
 "metadata": {
  "kernelspec": {
   "display_name": "Python 3 (ipykernel)",
   "language": "python",
   "name": "python3"
  },
  "language_info": {
   "codemirror_mode": {
    "name": "ipython",
    "version": 3
   },
   "file_extension": ".py",
   "mimetype": "text/x-python",
   "name": "python",
   "nbconvert_exporter": "python",
   "pygments_lexer": "ipython3",
   "version": "3.9.10"
  }
 },
 "nbformat": 4,
 "nbformat_minor": 5
}
